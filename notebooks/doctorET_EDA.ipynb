{
 "cells": [
  {
   "cell_type": "code",
   "execution_count": 2,
   "metadata": {},
   "outputs": [],
   "source": [
    "import os, sys\n",
    "import pandas as pd\n"
   ]
  },
  {
   "cell_type": "code",
   "execution_count": 14,
   "metadata": {},
   "outputs": [],
   "source": [
    "import re"
   ]
  },
  {
   "cell_type": "code",
   "execution_count": 3,
   "metadata": {},
   "outputs": [],
   "source": [
    "current_dir =   os.getcwd()\n",
    "parrent_dir = os.path.dirname(current_dir)\n",
    "sys.path.insert(0,parrent_dir)"
   ]
  },
  {
   "cell_type": "code",
   "execution_count": 4,
   "metadata": {},
   "outputs": [],
   "source": [
    "sys.path.append(os.path.abspath(os.path.join(os.path.dirname(parrent_dir), '..')))"
   ]
  },
  {
   "cell_type": "code",
   "execution_count": 4,
   "metadata": {},
   "outputs": [
    {
     "data": {
      "text/plain": [
       "'d:\\\\Machine Learning\\\\telegram-channel-scraping\\\\notebooks'"
      ]
     },
     "execution_count": 4,
     "metadata": {},
     "output_type": "execute_result"
    }
   ],
   "source": [
    "os.getcwd()"
   ]
  },
  {
   "cell_type": "code",
   "execution_count": 5,
   "metadata": {},
   "outputs": [],
   "source": [
    "os.chdir(\"..\")"
   ]
  },
  {
   "cell_type": "code",
   "execution_count": 5,
   "metadata": {},
   "outputs": [],
   "source": [
    "from scripts.preprocess_data import DataProcessor"
   ]
  },
  {
   "cell_type": "code",
   "execution_count": 33,
   "metadata": {},
   "outputs": [],
   "source": [
    "file1 = '../scraped_data/EAHCI.json'\n",
    "file2 = '../scraped_data/DoctorsET.json'\n",
    "file3 = '../scraped_data/lobelia4cosmetics.json'\n",
    "file4 = '../scraped_data/yetenaweg.json'"
   ]
  },
  {
   "cell_type": "code",
   "execution_count": 34,
   "metadata": {},
   "outputs": [
    {
     "name": "stdout",
     "output_type": "stream",
     "text": [
      "JSON data loaded successfully.\n",
      "JSON data loaded successfully.\n",
      "JSON data loaded successfully.\n",
      "JSON data loaded successfully.\n"
     ]
    }
   ],
   "source": [
    "df1 = DataProcessor(file1).load_json()\n",
    "df2 = DataProcessor(file2).load_json()\n",
    "df3 = DataProcessor(file3).load_json()\n",
    "df4 = DataProcessor(file4).load_json()"
   ]
  },
  {
   "cell_type": "code",
   "execution_count": 57,
   "metadata": {},
   "outputs": [
    {
     "name": "stdout",
     "output_type": "stream",
     "text": [
      "       id                                               text\n",
      "0    2609  #የግርዛት_ስልጠና_Addis_Ababa \\n#Circumcision_Skill_...\n",
      "1    2608  #OBGYN_Ultrasound_Training@Hawassa!\\n**#ነገ**_*...\n",
      "2    2607  #**Adult_ECHO_Training****@****#ADISS_ABABA_By...\n",
      "3    2606  #OBGYN_Ultrasound_Training@HOSSANA!\\n#የካቲት 2 ይ...\n",
      "4    2605                                               None\n",
      "..    ...                                                ...\n",
      "395  1149                    ህክምናው እና መከላከያ መንገዶቹ ምን ይመስላሉ ?\n",
      "396  1148  የዝንጀሮ ፈንጣጣ እንዴት ከአንድ ሰው ወደ ሌላ ይተላለፋል ? \\nይህን ማ...\n",
      "397  1147           በዝንጀሮ ፈንጣጣ ድንገት ቢያዙ፣ በሽታው ምን ያህል አስጊ ነው?\n",
      "398  1146                                                   \n",
      "399  1145                            የዝንጀሮ ፈንጣጣ ምልክቶችን ያውቃሉ?\n",
      "\n",
      "[400 rows x 2 columns]\n"
     ]
    }
   ],
   "source": [
    "# Merge the dataframes\n",
    "merged_df = pd.concat([df1, df2, df3, df4], ignore_index=True)\n",
    "\n",
    "# Display the merged dataframe\n",
    "print(merged_df)"
   ]
  },
  {
   "cell_type": "code",
   "execution_count": 58,
   "metadata": {},
   "outputs": [
    {
     "data": {
      "text/html": [
       "<div>\n",
       "<style scoped>\n",
       "    .dataframe tbody tr th:only-of-type {\n",
       "        vertical-align: middle;\n",
       "    }\n",
       "\n",
       "    .dataframe tbody tr th {\n",
       "        vertical-align: top;\n",
       "    }\n",
       "\n",
       "    .dataframe thead th {\n",
       "        text-align: right;\n",
       "    }\n",
       "</style>\n",
       "<table border=\"1\" class=\"dataframe\">\n",
       "  <thead>\n",
       "    <tr style=\"text-align: right;\">\n",
       "      <th></th>\n",
       "      <th>id</th>\n",
       "      <th>text</th>\n",
       "    </tr>\n",
       "  </thead>\n",
       "  <tbody>\n",
       "    <tr>\n",
       "      <th>0</th>\n",
       "      <td>2609</td>\n",
       "      <td>#የግርዛት_ስልጠና_Addis_Ababa \\n#Circumcision_Skill_...</td>\n",
       "    </tr>\n",
       "    <tr>\n",
       "      <th>1</th>\n",
       "      <td>2608</td>\n",
       "      <td>#OBGYN_Ultrasound_Training@Hawassa!\\n**#ነገ**_*...</td>\n",
       "    </tr>\n",
       "    <tr>\n",
       "      <th>2</th>\n",
       "      <td>2607</td>\n",
       "      <td>#**Adult_ECHO_Training****@****#ADISS_ABABA_By...</td>\n",
       "    </tr>\n",
       "    <tr>\n",
       "      <th>3</th>\n",
       "      <td>2606</td>\n",
       "      <td>#OBGYN_Ultrasound_Training@HOSSANA!\\n#የካቲት 2 ይ...</td>\n",
       "    </tr>\n",
       "    <tr>\n",
       "      <th>4</th>\n",
       "      <td>2605</td>\n",
       "      <td>None</td>\n",
       "    </tr>\n",
       "    <tr>\n",
       "      <th>...</th>\n",
       "      <td>...</td>\n",
       "      <td>...</td>\n",
       "    </tr>\n",
       "    <tr>\n",
       "      <th>95</th>\n",
       "      <td>2501</td>\n",
       "      <td></td>\n",
       "    </tr>\n",
       "    <tr>\n",
       "      <th>96</th>\n",
       "      <td>2500</td>\n",
       "      <td>None</td>\n",
       "    </tr>\n",
       "    <tr>\n",
       "      <th>97</th>\n",
       "      <td>2499</td>\n",
       "      <td>None</td>\n",
       "    </tr>\n",
       "    <tr>\n",
       "      <th>98</th>\n",
       "      <td>2498</td>\n",
       "      <td>💥Adult_ECHO_Training #Hawassa_By_Cardiologist_...</td>\n",
       "    </tr>\n",
       "    <tr>\n",
       "      <th>99</th>\n",
       "      <td>2496</td>\n",
       "      <td>#💥CPD #የሞያ_ፈቃድ_ለማሳደስ_CPD_ይመዝገቡ\\n#Title= Emerg...</td>\n",
       "    </tr>\n",
       "  </tbody>\n",
       "</table>\n",
       "<p>100 rows × 2 columns</p>\n",
       "</div>"
      ],
      "text/plain": [
       "      id                                               text\n",
       "0   2609  #የግርዛት_ስልጠና_Addis_Ababa \\n#Circumcision_Skill_...\n",
       "1   2608  #OBGYN_Ultrasound_Training@Hawassa!\\n**#ነገ**_*...\n",
       "2   2607  #**Adult_ECHO_Training****@****#ADISS_ABABA_By...\n",
       "3   2606  #OBGYN_Ultrasound_Training@HOSSANA!\\n#የካቲት 2 ይ...\n",
       "4   2605                                               None\n",
       "..   ...                                                ...\n",
       "95  2501                                                   \n",
       "96  2500                                               None\n",
       "97  2499                                               None\n",
       "98  2498  💥Adult_ECHO_Training #Hawassa_By_Cardiologist_...\n",
       "99  2496   #💥CPD #የሞያ_ፈቃድ_ለማሳደስ_CPD_ይመዝገቡ\\n#Title= Emerg...\n",
       "\n",
       "[100 rows x 2 columns]"
      ]
     },
     "execution_count": 58,
     "metadata": {},
     "output_type": "execute_result"
    }
   ],
   "source": [
    "df1"
   ]
  },
  {
   "cell_type": "code",
   "execution_count": 59,
   "metadata": {},
   "outputs": [
    {
     "data": {
      "text/html": [
       "<div>\n",
       "<style scoped>\n",
       "    .dataframe tbody tr th:only-of-type {\n",
       "        vertical-align: middle;\n",
       "    }\n",
       "\n",
       "    .dataframe tbody tr th {\n",
       "        vertical-align: top;\n",
       "    }\n",
       "\n",
       "    .dataframe thead th {\n",
       "        text-align: right;\n",
       "    }\n",
       "</style>\n",
       "<table border=\"1\" class=\"dataframe\">\n",
       "  <thead>\n",
       "    <tr style=\"text-align: right;\">\n",
       "      <th></th>\n",
       "      <th>id</th>\n",
       "      <th>text</th>\n",
       "    </tr>\n",
       "  </thead>\n",
       "  <tbody>\n",
       "    <tr>\n",
       "      <th>0</th>\n",
       "      <td>2609</td>\n",
       "      <td>#የግርዛት_ስልጠና_Addis_Ababa \\n#Circumcision_Skill_...</td>\n",
       "    </tr>\n",
       "    <tr>\n",
       "      <th>1</th>\n",
       "      <td>2608</td>\n",
       "      <td>#OBGYN_Ultrasound_Training@Hawassa!\\n**#ነገ**_*...</td>\n",
       "    </tr>\n",
       "    <tr>\n",
       "      <th>2</th>\n",
       "      <td>2607</td>\n",
       "      <td>#**Adult_ECHO_Training****@****#ADISS_ABABA_By...</td>\n",
       "    </tr>\n",
       "    <tr>\n",
       "      <th>3</th>\n",
       "      <td>2606</td>\n",
       "      <td>#OBGYN_Ultrasound_Training@HOSSANA!\\n#የካቲት 2 ይ...</td>\n",
       "    </tr>\n",
       "    <tr>\n",
       "      <th>4</th>\n",
       "      <td>2605</td>\n",
       "      <td>None</td>\n",
       "    </tr>\n",
       "    <tr>\n",
       "      <th>...</th>\n",
       "      <td>...</td>\n",
       "      <td>...</td>\n",
       "    </tr>\n",
       "    <tr>\n",
       "      <th>395</th>\n",
       "      <td>1149</td>\n",
       "      <td>ህክምናው እና መከላከያ መንገዶቹ ምን ይመስላሉ ?</td>\n",
       "    </tr>\n",
       "    <tr>\n",
       "      <th>396</th>\n",
       "      <td>1148</td>\n",
       "      <td>የዝንጀሮ ፈንጣጣ እንዴት ከአንድ ሰው ወደ ሌላ ይተላለፋል ? \\nይህን ማ...</td>\n",
       "    </tr>\n",
       "    <tr>\n",
       "      <th>397</th>\n",
       "      <td>1147</td>\n",
       "      <td>በዝንጀሮ ፈንጣጣ ድንገት ቢያዙ፣ በሽታው ምን ያህል አስጊ ነው?</td>\n",
       "    </tr>\n",
       "    <tr>\n",
       "      <th>398</th>\n",
       "      <td>1146</td>\n",
       "      <td></td>\n",
       "    </tr>\n",
       "    <tr>\n",
       "      <th>399</th>\n",
       "      <td>1145</td>\n",
       "      <td>የዝንጀሮ ፈንጣጣ ምልክቶችን ያውቃሉ?</td>\n",
       "    </tr>\n",
       "  </tbody>\n",
       "</table>\n",
       "<p>400 rows × 2 columns</p>\n",
       "</div>"
      ],
      "text/plain": [
       "       id                                               text\n",
       "0    2609  #የግርዛት_ስልጠና_Addis_Ababa \\n#Circumcision_Skill_...\n",
       "1    2608  #OBGYN_Ultrasound_Training@Hawassa!\\n**#ነገ**_*...\n",
       "2    2607  #**Adult_ECHO_Training****@****#ADISS_ABABA_By...\n",
       "3    2606  #OBGYN_Ultrasound_Training@HOSSANA!\\n#የካቲት 2 ይ...\n",
       "4    2605                                               None\n",
       "..    ...                                                ...\n",
       "395  1149                    ህክምናው እና መከላከያ መንገዶቹ ምን ይመስላሉ ?\n",
       "396  1148  የዝንጀሮ ፈንጣጣ እንዴት ከአንድ ሰው ወደ ሌላ ይተላለፋል ? \\nይህን ማ...\n",
       "397  1147           በዝንጀሮ ፈንጣጣ ድንገት ቢያዙ፣ በሽታው ምን ያህል አስጊ ነው?\n",
       "398  1146                                                   \n",
       "399  1145                            የዝንጀሮ ፈንጣጣ ምልክቶችን ያውቃሉ?\n",
       "\n",
       "[400 rows x 2 columns]"
      ]
     },
     "execution_count": 59,
     "metadata": {},
     "output_type": "execute_result"
    }
   ],
   "source": [
    "merged_df"
   ]
  },
  {
   "cell_type": "code",
   "execution_count": 60,
   "metadata": {},
   "outputs": [],
   "source": [
    "merged_df = merged_df.dropna(subset=['text']) "
   ]
  },
  {
   "cell_type": "code",
   "execution_count": 61,
   "metadata": {},
   "outputs": [],
   "source": [
    "merged_df = merged_df[merged_df['text'].str.strip() != '']  # Drop rows with empty strings"
   ]
  },
  {
   "cell_type": "code",
   "execution_count": 62,
   "metadata": {},
   "outputs": [],
   "source": [
    "merged_df = merged_df.drop_duplicates()\n"
   ]
  },
  {
   "cell_type": "code",
   "execution_count": 63,
   "metadata": {},
   "outputs": [],
   "source": [
    "merged_df['text'] = merged_df['text'].str.replace('\\n', ' ', regex=False).str.strip()"
   ]
  },
  {
   "cell_type": "code",
   "execution_count": 64,
   "metadata": {},
   "outputs": [
    {
     "data": {
      "text/html": [
       "<div>\n",
       "<style scoped>\n",
       "    .dataframe tbody tr th:only-of-type {\n",
       "        vertical-align: middle;\n",
       "    }\n",
       "\n",
       "    .dataframe tbody tr th {\n",
       "        vertical-align: top;\n",
       "    }\n",
       "\n",
       "    .dataframe thead th {\n",
       "        text-align: right;\n",
       "    }\n",
       "</style>\n",
       "<table border=\"1\" class=\"dataframe\">\n",
       "  <thead>\n",
       "    <tr style=\"text-align: right;\">\n",
       "      <th></th>\n",
       "      <th>id</th>\n",
       "      <th>text</th>\n",
       "    </tr>\n",
       "  </thead>\n",
       "  <tbody>\n",
       "    <tr>\n",
       "      <th>0</th>\n",
       "      <td>2609</td>\n",
       "      <td>#የግርዛት_ስልጠና_Addis_Ababa  #Circumcision_Skill_T...</td>\n",
       "    </tr>\n",
       "    <tr>\n",
       "      <th>1</th>\n",
       "      <td>2608</td>\n",
       "      <td>#OBGYN_Ultrasound_Training@Hawassa! **#ነገ**_**...</td>\n",
       "    </tr>\n",
       "    <tr>\n",
       "      <th>2</th>\n",
       "      <td>2607</td>\n",
       "      <td>#**Adult_ECHO_Training****@****#ADISS_ABABA_By...</td>\n",
       "    </tr>\n",
       "    <tr>\n",
       "      <th>3</th>\n",
       "      <td>2606</td>\n",
       "      <td>#OBGYN_Ultrasound_Training@HOSSANA! #የካቲት 2 ይጀ...</td>\n",
       "    </tr>\n",
       "    <tr>\n",
       "      <th>5</th>\n",
       "      <td>2604</td>\n",
       "      <td>#OBGYN_Ultrasound_Training@ADAMA! #የካቲት 2 ይጀምራ...</td>\n",
       "    </tr>\n",
       "    <tr>\n",
       "      <th>...</th>\n",
       "      <td>...</td>\n",
       "      <td>...</td>\n",
       "    </tr>\n",
       "    <tr>\n",
       "      <th>393</th>\n",
       "      <td>1151</td>\n",
       "      <td>💥 ቅድመ እርግዝና ክትትል ማለት አንዲት ሴት ከማርገዟ በፊት ስለ አጠቃላ...</td>\n",
       "    </tr>\n",
       "    <tr>\n",
       "      <th>395</th>\n",
       "      <td>1149</td>\n",
       "      <td>ህክምናው እና መከላከያ መንገዶቹ ምን ይመስላሉ ?</td>\n",
       "    </tr>\n",
       "    <tr>\n",
       "      <th>396</th>\n",
       "      <td>1148</td>\n",
       "      <td>የዝንጀሮ ፈንጣጣ እንዴት ከአንድ ሰው ወደ ሌላ ይተላለፋል ?  ይህን ማወ...</td>\n",
       "    </tr>\n",
       "    <tr>\n",
       "      <th>397</th>\n",
       "      <td>1147</td>\n",
       "      <td>በዝንጀሮ ፈንጣጣ ድንገት ቢያዙ፣ በሽታው ምን ያህል አስጊ ነው?</td>\n",
       "    </tr>\n",
       "    <tr>\n",
       "      <th>399</th>\n",
       "      <td>1145</td>\n",
       "      <td>የዝንጀሮ ፈንጣጣ ምልክቶችን ያውቃሉ?</td>\n",
       "    </tr>\n",
       "  </tbody>\n",
       "</table>\n",
       "<p>259 rows × 2 columns</p>\n",
       "</div>"
      ],
      "text/plain": [
       "       id                                               text\n",
       "0    2609  #የግርዛት_ስልጠና_Addis_Ababa  #Circumcision_Skill_T...\n",
       "1    2608  #OBGYN_Ultrasound_Training@Hawassa! **#ነገ**_**...\n",
       "2    2607  #**Adult_ECHO_Training****@****#ADISS_ABABA_By...\n",
       "3    2606  #OBGYN_Ultrasound_Training@HOSSANA! #የካቲት 2 ይጀ...\n",
       "5    2604  #OBGYN_Ultrasound_Training@ADAMA! #የካቲት 2 ይጀምራ...\n",
       "..    ...                                                ...\n",
       "393  1151  💥 ቅድመ እርግዝና ክትትል ማለት አንዲት ሴት ከማርገዟ በፊት ስለ አጠቃላ...\n",
       "395  1149                    ህክምናው እና መከላከያ መንገዶቹ ምን ይመስላሉ ?\n",
       "396  1148  የዝንጀሮ ፈንጣጣ እንዴት ከአንድ ሰው ወደ ሌላ ይተላለፋል ?  ይህን ማወ...\n",
       "397  1147           በዝንጀሮ ፈንጣጣ ድንገት ቢያዙ፣ በሽታው ምን ያህል አስጊ ነው?\n",
       "399  1145                            የዝንጀሮ ፈንጣጣ ምልክቶችን ያውቃሉ?\n",
       "\n",
       "[259 rows x 2 columns]"
      ]
     },
     "execution_count": 64,
     "metadata": {},
     "output_type": "execute_result"
    }
   ],
   "source": [
    "merged_df"
   ]
  },
  {
   "cell_type": "code",
   "execution_count": 65,
   "metadata": {},
   "outputs": [],
   "source": [
    "def remove_emoji(text):\n",
    "    # This regex pattern covers a broad range of emojis\n",
    "    emoji_pattern = re.compile(\n",
    "        \"[\"\n",
    "        \"\\U0001F600-\\U0001F64F\"  # emoticons\n",
    "        \"\\U0001F300-\\U0001F5FF\"  # symbols & pictographs\n",
    "        \"\\U0001F680-\\U0001F6FF\"  # transport & map symbols\n",
    "        \"\\U0001F1E0-\\U0001F1FF\"  # flags (iOS)\n",
    "        \"\\U00002702-\\U000027B0\"  # additional symbols\n",
    "        \"\\U000024C2-\\U0001F251\"  # additional symbols\n",
    "        \"]+\",\n",
    "        flags=re.UNICODE\n",
    "    )\n",
    "    return emoji_pattern.sub(r'', text)"
   ]
  },
  {
   "cell_type": "code",
   "execution_count": 66,
   "metadata": {},
   "outputs": [],
   "source": [
    "merged_df['text'] = merged_df['text'].apply(remove_emoji)"
   ]
  },
  {
   "cell_type": "code",
   "execution_count": 67,
   "metadata": {},
   "outputs": [
    {
     "data": {
      "text/html": [
       "<div>\n",
       "<style scoped>\n",
       "    .dataframe tbody tr th:only-of-type {\n",
       "        vertical-align: middle;\n",
       "    }\n",
       "\n",
       "    .dataframe tbody tr th {\n",
       "        vertical-align: top;\n",
       "    }\n",
       "\n",
       "    .dataframe thead th {\n",
       "        text-align: right;\n",
       "    }\n",
       "</style>\n",
       "<table border=\"1\" class=\"dataframe\">\n",
       "  <thead>\n",
       "    <tr style=\"text-align: right;\">\n",
       "      <th></th>\n",
       "      <th>id</th>\n",
       "      <th>text</th>\n",
       "    </tr>\n",
       "  </thead>\n",
       "  <tbody>\n",
       "    <tr>\n",
       "      <th>0</th>\n",
       "      <td>2609</td>\n",
       "      <td>#የግርዛት_ስልጠና_Addis_Ababa  #Circumcision_Skill_T...</td>\n",
       "    </tr>\n",
       "    <tr>\n",
       "      <th>1</th>\n",
       "      <td>2608</td>\n",
       "      <td>#OBGYN_Ultrasound_Training@Hawassa! **#ነገ**_**...</td>\n",
       "    </tr>\n",
       "    <tr>\n",
       "      <th>2</th>\n",
       "      <td>2607</td>\n",
       "      <td>#**Adult_ECHO_Training****@****#ADISS_ABABA_By...</td>\n",
       "    </tr>\n",
       "    <tr>\n",
       "      <th>3</th>\n",
       "      <td>2606</td>\n",
       "      <td>#OBGYN_Ultrasound_Training@HOSSANA! #የካቲት 2 ይጀ...</td>\n",
       "    </tr>\n",
       "    <tr>\n",
       "      <th>5</th>\n",
       "      <td>2604</td>\n",
       "      <td>#OBGYN_Ultrasound_Training@ADAMA! #የካቲት 2 ይጀምራ...</td>\n",
       "    </tr>\n",
       "    <tr>\n",
       "      <th>...</th>\n",
       "      <td>...</td>\n",
       "      <td>...</td>\n",
       "    </tr>\n",
       "    <tr>\n",
       "      <th>393</th>\n",
       "      <td>1151</td>\n",
       "      <td>ቅድመ እርግዝና ክትትል ማለት አንዲት ሴት ከማርገዟ በፊት ስለ አጠቃላይ...</td>\n",
       "    </tr>\n",
       "    <tr>\n",
       "      <th>395</th>\n",
       "      <td>1149</td>\n",
       "      <td>ህክምናው እና መከላከያ መንገዶቹ ምን ይመስላሉ ?</td>\n",
       "    </tr>\n",
       "    <tr>\n",
       "      <th>396</th>\n",
       "      <td>1148</td>\n",
       "      <td>የዝንጀሮ ፈንጣጣ እንዴት ከአንድ ሰው ወደ ሌላ ይተላለፋል ?  ይህን ማወ...</td>\n",
       "    </tr>\n",
       "    <tr>\n",
       "      <th>397</th>\n",
       "      <td>1147</td>\n",
       "      <td>በዝንጀሮ ፈንጣጣ ድንገት ቢያዙ፣ በሽታው ምን ያህል አስጊ ነው?</td>\n",
       "    </tr>\n",
       "    <tr>\n",
       "      <th>399</th>\n",
       "      <td>1145</td>\n",
       "      <td>የዝንጀሮ ፈንጣጣ ምልክቶችን ያውቃሉ?</td>\n",
       "    </tr>\n",
       "  </tbody>\n",
       "</table>\n",
       "<p>259 rows × 2 columns</p>\n",
       "</div>"
      ],
      "text/plain": [
       "       id                                               text\n",
       "0    2609  #የግርዛት_ስልጠና_Addis_Ababa  #Circumcision_Skill_T...\n",
       "1    2608  #OBGYN_Ultrasound_Training@Hawassa! **#ነገ**_**...\n",
       "2    2607  #**Adult_ECHO_Training****@****#ADISS_ABABA_By...\n",
       "3    2606  #OBGYN_Ultrasound_Training@HOSSANA! #የካቲት 2 ይጀ...\n",
       "5    2604  #OBGYN_Ultrasound_Training@ADAMA! #የካቲት 2 ይጀምራ...\n",
       "..    ...                                                ...\n",
       "393  1151   ቅድመ እርግዝና ክትትል ማለት አንዲት ሴት ከማርገዟ በፊት ስለ አጠቃላይ...\n",
       "395  1149                    ህክምናው እና መከላከያ መንገዶቹ ምን ይመስላሉ ?\n",
       "396  1148  የዝንጀሮ ፈንጣጣ እንዴት ከአንድ ሰው ወደ ሌላ ይተላለፋል ?  ይህን ማወ...\n",
       "397  1147           በዝንጀሮ ፈንጣጣ ድንገት ቢያዙ፣ በሽታው ምን ያህል አስጊ ነው?\n",
       "399  1145                            የዝንጀሮ ፈንጣጣ ምልክቶችን ያውቃሉ?\n",
       "\n",
       "[259 rows x 2 columns]"
      ]
     },
     "execution_count": 67,
     "metadata": {},
     "output_type": "execute_result"
    }
   ],
   "source": [
    "merged_df"
   ]
  },
  {
   "cell_type": "code",
   "execution_count": 68,
   "metadata": {},
   "outputs": [],
   "source": [
    "# def extract_telegram_links(text):\n",
    "#     telegram_pattern = re.compile(r'(https?://t\\.me/[^\\s]+)')\n",
    "#     return telegram_pattern.findall(text)\n",
    "\n",
    "# # Apply the function to the 'text' column of the dataframe\n",
    "# merged_df['telegram_links'] = merged_df['text'].apply(extract_telegram_links)\n",
    "\n",
    "# # Display the dataframe with the extracted links\n",
    "# print(merged_df[['text', 'telegram_links']])"
   ]
  },
  {
   "cell_type": "code",
   "execution_count": 69,
   "metadata": {},
   "outputs": [],
   "source": [
    "# merged_df['text'] = merged_df['text'].str.replace('telegram', '', case=False, regex=False)"
   ]
  },
  {
   "cell_type": "code",
   "execution_count": 70,
   "metadata": {},
   "outputs": [],
   "source": [
    "# merged_df['telegram_links'] = merged_df['telegram_links'].apply(lambda x: ', '.join(x)) "
   ]
  },
  {
   "cell_type": "code",
   "execution_count": 71,
   "metadata": {},
   "outputs": [
    {
     "data": {
      "text/html": [
       "<div>\n",
       "<style scoped>\n",
       "    .dataframe tbody tr th:only-of-type {\n",
       "        vertical-align: middle;\n",
       "    }\n",
       "\n",
       "    .dataframe tbody tr th {\n",
       "        vertical-align: top;\n",
       "    }\n",
       "\n",
       "    .dataframe thead th {\n",
       "        text-align: right;\n",
       "    }\n",
       "</style>\n",
       "<table border=\"1\" class=\"dataframe\">\n",
       "  <thead>\n",
       "    <tr style=\"text-align: right;\">\n",
       "      <th></th>\n",
       "      <th>id</th>\n",
       "      <th>text</th>\n",
       "    </tr>\n",
       "  </thead>\n",
       "  <tbody>\n",
       "    <tr>\n",
       "      <th>0</th>\n",
       "      <td>2609</td>\n",
       "      <td>#የግርዛት_ስልጠና_Addis_Ababa  #Circumcision_Skill_T...</td>\n",
       "    </tr>\n",
       "    <tr>\n",
       "      <th>1</th>\n",
       "      <td>2608</td>\n",
       "      <td>#OBGYN_Ultrasound_Training@Hawassa! **#ነገ**_**...</td>\n",
       "    </tr>\n",
       "    <tr>\n",
       "      <th>2</th>\n",
       "      <td>2607</td>\n",
       "      <td>#**Adult_ECHO_Training****@****#ADISS_ABABA_By...</td>\n",
       "    </tr>\n",
       "    <tr>\n",
       "      <th>3</th>\n",
       "      <td>2606</td>\n",
       "      <td>#OBGYN_Ultrasound_Training@HOSSANA! #የካቲት 2 ይጀ...</td>\n",
       "    </tr>\n",
       "    <tr>\n",
       "      <th>5</th>\n",
       "      <td>2604</td>\n",
       "      <td>#OBGYN_Ultrasound_Training@ADAMA! #የካቲት 2 ይጀምራ...</td>\n",
       "    </tr>\n",
       "    <tr>\n",
       "      <th>...</th>\n",
       "      <td>...</td>\n",
       "      <td>...</td>\n",
       "    </tr>\n",
       "    <tr>\n",
       "      <th>393</th>\n",
       "      <td>1151</td>\n",
       "      <td>ቅድመ እርግዝና ክትትል ማለት አንዲት ሴት ከማርገዟ በፊት ስለ አጠቃላይ...</td>\n",
       "    </tr>\n",
       "    <tr>\n",
       "      <th>395</th>\n",
       "      <td>1149</td>\n",
       "      <td>ህክምናው እና መከላከያ መንገዶቹ ምን ይመስላሉ ?</td>\n",
       "    </tr>\n",
       "    <tr>\n",
       "      <th>396</th>\n",
       "      <td>1148</td>\n",
       "      <td>የዝንጀሮ ፈንጣጣ እንዴት ከአንድ ሰው ወደ ሌላ ይተላለፋል ?  ይህን ማወ...</td>\n",
       "    </tr>\n",
       "    <tr>\n",
       "      <th>397</th>\n",
       "      <td>1147</td>\n",
       "      <td>በዝንጀሮ ፈንጣጣ ድንገት ቢያዙ፣ በሽታው ምን ያህል አስጊ ነው?</td>\n",
       "    </tr>\n",
       "    <tr>\n",
       "      <th>399</th>\n",
       "      <td>1145</td>\n",
       "      <td>የዝንጀሮ ፈንጣጣ ምልክቶችን ያውቃሉ?</td>\n",
       "    </tr>\n",
       "  </tbody>\n",
       "</table>\n",
       "<p>259 rows × 2 columns</p>\n",
       "</div>"
      ],
      "text/plain": [
       "       id                                               text\n",
       "0    2609  #የግርዛት_ስልጠና_Addis_Ababa  #Circumcision_Skill_T...\n",
       "1    2608  #OBGYN_Ultrasound_Training@Hawassa! **#ነገ**_**...\n",
       "2    2607  #**Adult_ECHO_Training****@****#ADISS_ABABA_By...\n",
       "3    2606  #OBGYN_Ultrasound_Training@HOSSANA! #የካቲት 2 ይጀ...\n",
       "5    2604  #OBGYN_Ultrasound_Training@ADAMA! #የካቲት 2 ይጀምራ...\n",
       "..    ...                                                ...\n",
       "393  1151   ቅድመ እርግዝና ክትትል ማለት አንዲት ሴት ከማርገዟ በፊት ስለ አጠቃላይ...\n",
       "395  1149                    ህክምናው እና መከላከያ መንገዶቹ ምን ይመስላሉ ?\n",
       "396  1148  የዝንጀሮ ፈንጣጣ እንዴት ከአንድ ሰው ወደ ሌላ ይተላለፋል ?  ይህን ማወ...\n",
       "397  1147           በዝንጀሮ ፈንጣጣ ድንገት ቢያዙ፣ በሽታው ምን ያህል አስጊ ነው?\n",
       "399  1145                            የዝንጀሮ ፈንጣጣ ምልክቶችን ያውቃሉ?\n",
       "\n",
       "[259 rows x 2 columns]"
      ]
     },
     "execution_count": 71,
     "metadata": {},
     "output_type": "execute_result"
    }
   ],
   "source": [
    "merged_df"
   ]
  },
  {
   "cell_type": "code",
   "execution_count": 72,
   "metadata": {},
   "outputs": [],
   "source": [
    "# df_clean['text'] = df_clean['text'].str.replace('/', '', regex=False)"
   ]
  },
  {
   "cell_type": "code",
   "execution_count": 73,
   "metadata": {},
   "outputs": [],
   "source": [
    "# Create the cleaned_dataset folder if it doesn't exist\n",
    "os.makedirs('cleaned_dataset', exist_ok=True)\n",
    "\n",
    "# Save the df_clean dataframe as cleaned_data.csv inside the cleaned_dataset folder\n",
    "merged_df.to_csv('../cleaned_dataset/cleaned_data.csv', index=False)"
   ]
  },
  {
   "cell_type": "code",
   "execution_count": null,
   "metadata": {},
   "outputs": [],
   "source": []
  },
  {
   "cell_type": "code",
   "execution_count": 74,
   "metadata": {},
   "outputs": [
    {
     "data": {
      "text/plain": [
       "259"
      ]
     },
     "execution_count": 74,
     "metadata": {},
     "output_type": "execute_result"
    }
   ],
   "source": [
    "from sqlalchemy import create_engine\n",
    "\n",
    "# Database connection parameters\n",
    "db_user = 'postgres'\n",
    "db_password = '1431'\n",
    "db_host = 'localhost'\n",
    "db_port = '5432'\n",
    "db_name = 'tg_data'\n",
    "\n",
    "# Create a connection string\n",
    "connection_string = f'postgresql+psycopg2://{db_user}:{db_password}@{db_host}:{db_port}/{db_name}'\n",
    "\n",
    "# Create a database engine\n",
    "engine = create_engine(connection_string)\n",
    "\n",
    "# Store the dataframe in the PostgreSQL database\n",
    "merged_df.to_sql('cleaned_data', engine, if_exists='replace', index=False)"
   ]
  },
  {
   "cell_type": "code",
   "execution_count": null,
   "metadata": {},
   "outputs": [],
   "source": []
  },
  {
   "cell_type": "code",
   "execution_count": null,
   "metadata": {},
   "outputs": [],
   "source": []
  },
  {
   "cell_type": "code",
   "execution_count": null,
   "metadata": {},
   "outputs": [],
   "source": []
  }
 ],
 "metadata": {
  "kernelspec": {
   "display_name": ".venv",
   "language": "python",
   "name": "python3"
  },
  "language_info": {
   "codemirror_mode": {
    "name": "ipython",
    "version": 3
   },
   "file_extension": ".py",
   "mimetype": "text/x-python",
   "name": "python",
   "nbconvert_exporter": "python",
   "pygments_lexer": "ipython3",
   "version": "3.13.1"
  }
 },
 "nbformat": 4,
 "nbformat_minor": 2
}
